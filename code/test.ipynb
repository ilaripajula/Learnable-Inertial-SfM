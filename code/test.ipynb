{
 "cells": [
  {
   "cell_type": "code",
   "execution_count": 1,
   "metadata": {},
   "outputs": [],
   "source": [
    "import torch \n",
    "import numpy as np\n",
    "from utils.geo_utils import normalize_M\n",
    "from datasets.Euclidean import test_euclidean_dataset"
   ]
  },
  {
   "cell_type": "code",
   "execution_count": 2,
   "metadata": {},
   "outputs": [
    {
     "name": "stdout",
     "output_type": "stream",
     "text": [
      "Test Ps and M\n",
      "Reprojection Error: Mean = 3396.150607929185, Max = 50596364.921368115\n",
      "Test Ps and M_gt\n",
      "Reprojection Error: Mean = 0.46923232111596175, Max = 5207.450248752113\n"
     ]
    }
   ],
   "source": [
    "test_euclidean_dataset(\"120_frame_test\")"
   ]
  },
  {
   "cell_type": "code",
   "execution_count": 29,
   "metadata": {},
   "outputs": [],
   "source": [
    "gtR =  np.load(\"../results/Optimization_Euc/2024_04_25_11_03_55/OPTIMIZATION/UZH_Drone_IMU/cameras/Rs_gt.npy\")\n",
    "gtt =  np.load(\"../results/Optimization_Euc/2024_04_25_11_03_55/OPTIMIZATION/UZH_Drone_IMU/cameras/ts_gt.npy\")[:, :, None]\n",
    "np.savetxt('../results/Optimization_Euc/2024_04_25_11_03_55/OPTIMIZATION/UZH_Drone_IMU/cameras/gt.txt', np.concatenate([gtR, gtt], axis=2).reshape(-1, 12))"
   ]
  },
  {
   "cell_type": "code",
   "execution_count": 25,
   "metadata": {},
   "outputs": [
    {
     "name": "stdout",
     "output_type": "stream",
     "text": [
      "(110, 3, 4)\n"
     ]
    },
    {
     "ename": "NameError",
     "evalue": "name 'trajreshape' is not defined",
     "output_type": "error",
     "traceback": [
      "\u001b[0;31m---------------------------------------------------------------------------\u001b[0m",
      "\u001b[0;31mNameError\u001b[0m                                 Traceback (most recent call last)",
      "Cell \u001b[0;32mIn[25], line 3\u001b[0m\n\u001b[1;32m      1\u001b[0m traj \u001b[38;5;241m=\u001b[39m  np\u001b[38;5;241m.\u001b[39mload(\u001b[38;5;124m\"\u001b[39m\u001b[38;5;124m../results/Optimization_Euc/2024_04_25_11_03_55/OPTIMIZATION/UZH_Drone_IMU/cameras/Ps.npy\u001b[39m\u001b[38;5;124m\"\u001b[39m)\n\u001b[1;32m      2\u001b[0m \u001b[38;5;28mprint\u001b[39m(traj\u001b[38;5;241m.\u001b[39mshape)\n\u001b[0;32m----> 3\u001b[0m np\u001b[38;5;241m.\u001b[39msavetxt(\u001b[38;5;124m'\u001b[39m\u001b[38;5;124m../results/Optimization_Euc/2024_04_25_11_03_55/OPTIMIZATION/UZH_Drone_IMU/cameras/pred.txt\u001b[39m\u001b[38;5;124m'\u001b[39m, \u001b[43mtrajreshape\u001b[49m(\u001b[38;5;241m-\u001b[39m\u001b[38;5;241m1\u001b[39m, \u001b[38;5;241m12\u001b[39m))\n",
      "\u001b[0;31mNameError\u001b[0m: name 'trajreshape' is not defined"
     ]
    }
   ],
   "source": [
    "traj =  np.load(\"../results/Optimization_Euc/2024_04_25_11_03_55/OPTIMIZATION/UZH_Drone_IMU/cameras/Ps.npy\")\n",
    "print(traj.shape)\n",
    "np.savetxt('../results/Optimization_Euc/2024_04_25_11_03_55/OPTIMIZATION/UZH_Drone_IMU/cameras/pred.txt', traj.reshape(-1, 12))"
   ]
  },
  {
   "cell_type": "code",
   "execution_count": 32,
   "metadata": {},
   "outputs": [],
   "source": [
    "from pytorch3d import transforms as py3d_trans\n",
    "from utils import geo_utils\n",
    "from torch import nn\n",
    "from torch.nn import functional as F\n",
    "\n",
    "class GTLoss(nn.Module): # Not tested\n",
    "    def __init__(self):\n",
    "        super().__init__()\n",
    "        self.calibrated = True\n",
    "\n",
    "    def forward(self, pred_cam, data, epoch=None):\n",
    "        # Get orientation\n",
    "        Vs_gt = data.y[:, 0:3, 0:3].inverse().transpose(1, 2)\n",
    "        if self.calibrated:\n",
    "            #Rs_gt = geo_utils.rot_to_quat(torch.bmm(data.Ns_invT, Vs_gt).transpose(1, 2))\n",
    "            Rs_gt = py3d_trans.matrix_to_quaternion(torch.bmm(data.Ns_invT, Vs_gt).transpose(1, 2))\n",
    "\n",
    "        # Get Location\n",
    "        t_gt = -torch.bmm(data.y[:, 0:3, 0:3].inverse(), data.y[:, 0:3, 3].unsqueeze(-1)).squeeze()\n",
    "\n",
    "        # Normalize scene by points\n",
    "        # trans = pts3D_gt.mean(dim=1)\n",
    "        # scale = (pts3D_gt - trans.unsqueeze(1)).norm(p=2, dim=0).mean()\n",
    "\n",
    "        # Normalize scene by cameras\n",
    "        trans = t_gt.mean(dim=0)\n",
    "        scale = (t_gt - trans).norm(p=2, dim=1).mean()\n",
    "\n",
    "        t_gt = (t_gt - trans)/scale\n",
    "        new_Ps = geo_utils.batch_get_camera_matrix_from_Vt(Vs_gt, t_gt)\n",
    "\n",
    "        Vs_invT = pred_cam[\"Ps_norm\"][:, 0:3, 0:3]\n",
    "        Vs = torch.inverse(Vs_invT).transpose(1, 2)\n",
    "\n",
    "\n",
    "        ts = torch.bmm(-Vs, pred_cam[\"Ps_norm\"][:, :, 3].unsqueeze(dim=-1)).squeeze() # [:, [2,1,0], 3]\n",
    "\n",
    "        # Translation error\n",
    "        translation_err = (t_gt - ts).norm(p=2, dim=1)\n",
    "\n",
    "        # Calculate error\n",
    "        if self.calibrated:\n",
    "            # Rs = geo_utils.rot_to_quat(torch.bmm(data.Ns_invT, Vs).transpose(1, 2))\n",
    "            Rs = py3d_trans.matrix_to_quaternion(torch.bmm(data.Ns_invT, Vs).transpose(1, 2))\n",
    "\n",
    "            orient_err = (Rs - Rs_gt).norm(p=2, dim=1)\n",
    "        else:\n",
    "            Vs_gt = Vs_gt / Vs_gt.norm(p='fro', dim=(1, 2), keepdim=True)\n",
    "            Vs = Vs / Vs.norm(p='fro', dim=(1, 2), keepdim=True)\n",
    "            orient_err = torch.min((Vs - Vs_gt).norm(p='fro', dim=(1, 2)), (Vs + Vs_gt).norm(p='fro', dim=(1, 2)))\n",
    "\n",
    "        orient_loss = orient_err.mean()\n",
    "        tran_loss = translation_err.mean()\n",
    "        loss = orient_loss + tran_loss\n",
    "\n",
    "        if epoch is not None and epoch % 1000 == 0:\n",
    "            # Print loss\n",
    "            print(\"loss = {}, orient err = {}, trans err = {}\".format(loss, orient_loss, tran_loss))\n",
    "\n",
    "        return loss"
   ]
  },
  {
   "cell_type": "code",
   "execution_count": 33,
   "metadata": {},
   "outputs": [
    {
     "ename": "TypeError",
     "evalue": "__init__() missing 1 required positional argument: 'conf'",
     "output_type": "error",
     "traceback": [
      "\u001b[0;31m---------------------------------------------------------------------------\u001b[0m",
      "\u001b[0;31mTypeError\u001b[0m                                 Traceback (most recent call last)",
      "Cell \u001b[0;32mIn[33], line 1\u001b[0m\n\u001b[0;32m----> 1\u001b[0m gtloss \u001b[38;5;241m=\u001b[39m \u001b[43mGTLoss\u001b[49m\u001b[43m(\u001b[49m\u001b[43m)\u001b[49m\n",
      "\u001b[0;31mTypeError\u001b[0m: __init__() missing 1 required positional argument: 'conf'"
     ]
    }
   ],
   "source": [
    "gtloss = GTLoss()"
   ]
  },
  {
   "cell_type": "code",
   "execution_count": 6,
   "metadata": {},
   "outputs": [
    {
     "data": {
      "text/plain": [
       "tensor([[[ 0.2467,  0.0810],\n",
       "         [ 0.0000,  0.0000],\n",
       "         [ 0.0000,  0.0000],\n",
       "         ...,\n",
       "         [ 0.0500, -0.0243],\n",
       "         [ 0.0000,  0.0000],\n",
       "         [-0.1532, -0.2354]],\n",
       "\n",
       "        [[ 0.2202,  0.0801],\n",
       "         [ 0.0000,  0.0000],\n",
       "         [ 0.0000,  0.0000],\n",
       "         ...,\n",
       "         [ 0.0000,  0.0000],\n",
       "         [ 0.0000,  0.0000],\n",
       "         [ 0.0000,  0.0000]],\n",
       "\n",
       "        [[ 0.2026,  0.0781],\n",
       "         [ 0.0000,  0.0000],\n",
       "         [ 0.0000,  0.0000],\n",
       "         ...,\n",
       "         [ 0.0000,  0.0000],\n",
       "         [ 0.0000,  0.0000],\n",
       "         [ 0.0000,  0.0000]],\n",
       "\n",
       "        ...,\n",
       "\n",
       "        [[ 0.0000,  0.0000],\n",
       "         [-0.2925, -0.1265],\n",
       "         [ 0.0000,  0.0000],\n",
       "         ...,\n",
       "         [ 0.0000,  0.0000],\n",
       "         [ 0.0000,  0.0000],\n",
       "         [-0.1445, -0.2571]],\n",
       "\n",
       "        [[ 0.0000,  0.0000],\n",
       "         [ 0.0000,  0.0000],\n",
       "         [ 0.0000,  0.0000],\n",
       "         ...,\n",
       "         [ 0.0000,  0.0000],\n",
       "         [ 0.0000,  0.0000],\n",
       "         [ 0.0000,  0.0000]],\n",
       "\n",
       "        [[ 0.0000,  0.0000],\n",
       "         [ 0.0000,  0.0000],\n",
       "         [ 0.0000,  0.0000],\n",
       "         ...,\n",
       "         [ 0.0000,  0.0000],\n",
       "         [-0.1525,  0.2605],\n",
       "         [ 0.0000,  0.0000]]], dtype=torch.float64)"
      ]
     },
     "execution_count": 6,
     "metadata": {},
     "output_type": "execute_result"
    }
   ],
   "source": [
    "data = np.load(\"../datasets/Euclidean/Drinking Fountain Somewhere In Zurich.npz\")\n",
    "M = torch.tensor(data['M']) # [M*2, N] points\n",
    "Ns = torch.tensor(data['Ns']) # [M, 3, 3] matrices\n",
    "normalize_M(M, Ns)"
   ]
  },
  {
   "cell_type": "code",
   "execution_count": null,
   "metadata": {},
   "outputs": [],
   "source": [
    "embed_kwargs = {\n",
    "    'include_input': True,\n",
    "    'input_dims': 2,\n",
    "    'max_freq_log2': 50 - 1,\n",
    "    'num_freqs': 50,\n",
    "    'log_sampling': True,\n",
    "    'periodic_fns': [torch.sin, torch.cos],\n",
    "}\n",
    "\n",
    "embedder = Embedder(**embed_kwargs)\n",
    "\n",
    "embedder.embed(torch.ones(10,2)).shape"
   ]
  }
 ],
 "metadata": {
  "kernelspec": {
   "display_name": "ESFM",
   "language": "python",
   "name": "python3"
  },
  "language_info": {
   "codemirror_mode": {
    "name": "ipython",
    "version": 3
   },
   "file_extension": ".py",
   "mimetype": "text/x-python",
   "name": "python",
   "nbconvert_exporter": "python",
   "pygments_lexer": "ipython3",
   "version": "3.8.12"
  }
 },
 "nbformat": 4,
 "nbformat_minor": 2
}
